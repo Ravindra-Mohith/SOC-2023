{
  "nbformat": 4,
  "nbformat_minor": 0,
  "metadata": {
    "colab": {
      "provenance": []
    },
    "kernelspec": {
      "name": "python3",
      "display_name": "Python 3"
    },
    "language_info": {
      "name": "python"
    }
  },
  "cells": [
    {
      "cell_type": "markdown",
      "source": [
        "# Assignment - 1\n",
        "## Q1) Leaders in an array\n"
      ],
      "metadata": {
        "id": "CvjtXHdD3d-T"
      }
    },
    {
      "cell_type": "code",
      "execution_count": null,
      "metadata": {
        "colab": {
          "base_uri": "https://localhost:8080/"
        },
        "id": "lHeUdpPs0_t6",
        "outputId": "feb2b884-ed42-4af2-f9ad-8510fe64fc6c"
      },
      "outputs": [
        {
          "output_type": "stream",
          "name": "stdout",
          "text": [
            "[17, 5, 2]\n"
          ]
        }
      ],
      "source": [
        "def find_leaders(List):\n",
        "    leaders = []\n",
        "    max_so_far = List[-1]\n",
        "    leaders.append(max_so_far)\n",
        "    for i in range(len(List)-2, -1, -1):\n",
        "        if List[i] >= max_so_far:\n",
        "            max_so_far = List[i]\n",
        "            leaders.append(max_so_far)\n",
        "    leaders.reverse()\n",
        "    return leaders\n",
        "\n",
        "# Example:\n",
        "List = [16, 17, 4, 3, 5, 2]\n",
        "print(find_leaders(List))"
      ]
    },
    {
      "cell_type": "markdown",
      "source": [
        "## Q2) Trapping Rain Water"
      ],
      "metadata": {
        "id": "mGORLV2l33Gj"
      }
    },
    {
      "cell_type": "code",
      "source": [
        "def rain_water(arr):\n",
        "    n = len(arr)\n",
        "    left_max = [0 for i in range(n)]\n",
        "    right_max = [0 for i in range(n)]\n",
        "\n",
        "    left_max[0] = arr[0]\n",
        "    for i in range(1, n):\n",
        "        left_max[i] = max(left_max[i-1], arr[i])\n",
        "\n",
        "    right_max[n-1] = arr[n-1]\n",
        "    for i in range(n-2, -1, -1):\n",
        "        right_max[i] = max(right_max[i+1], arr[i])\n",
        "\n",
        "    trapped_water = 0\n",
        "    for i in range(n):\n",
        "        trapped_water += min(left_max[i], right_max[i]) - arr[i]\n",
        "\n",
        "    return trapped_water\n",
        "\n",
        "# Example:\n",
        "arr = [3, 0, 0, 2, 0, 4]\n",
        "print(rain_water(arr))"
      ],
      "metadata": {
        "colab": {
          "base_uri": "https://localhost:8080/"
        },
        "id": "fO_27FL23cyC",
        "outputId": "b93c9793-1900-4872-b4c5-ec2dc403468c"
      },
      "execution_count": null,
      "outputs": [
        {
          "output_type": "stream",
          "name": "stdout",
          "text": [
            "10\n"
          ]
        }
      ]
    },
    {
      "cell_type": "markdown",
      "source": [
        "## Q3) Minimum Platforms"
      ],
      "metadata": {
        "id": "03ngzGGd5iDC"
      }
    },
    {
      "cell_type": "code",
      "source": [
        "def overlap(a,b):\n",
        "  return ((b[0]>a[0] and b[0]<=a[1]) or (b[1]>=a[0] and b[1]<a[1])) or ((a[0]>b[0] and a[0]<=b[1]) or (a[1]>=b[0] and a[1]<b[1]))\n",
        "\n",
        "def min_platforms(n,arr,dep):\n",
        "  platforms=[]\n",
        "  for i in range(n):\n",
        "    if i==0:\n",
        "      platforms.append([arr[i],dep[i]])\n",
        "    else:\n",
        "      check=False\n",
        "      for platform in platforms:\n",
        "        if not overlap(platform,[arr[i],dep[i]]):\n",
        "          platforms[platforms.index(platform)]=[arr[i],dep[i]]\n",
        "          check=True\n",
        "          break\n",
        "      if not check:\n",
        "        platforms.append([arr[i],dep[i]])\n",
        "  return len(platforms)\n",
        "\n",
        "n = int(input(\"Enter no.of Trains: \"))\n",
        "arr,dep=[],[]\n",
        "for i in range(n):\n",
        "  arr.append(int(input(f\"Enter arriving time of Train {i}: \")))\n",
        "  dep.append(int(input(f\"Enter departure time of Train {i}: \")))\n",
        "# arr = [900, 940, 950, 1100, 1500, 1800]\n",
        "# dep = [910, 1200, 1120, 1130, 1900, 2000]\n",
        "print(min_platforms(n,arr,dep))\n"
      ],
      "metadata": {
        "colab": {
          "base_uri": "https://localhost:8080/"
        },
        "id": "AP_imawM5nfg",
        "outputId": "2cca3f5e-9a77-41f0-bae8-595efbc9133e"
      },
      "execution_count": null,
      "outputs": [
        {
          "output_type": "stream",
          "name": "stdout",
          "text": [
            "Enter no.of Trains: 6\n",
            "Enter arriving time of Train 0: 900\n",
            "Enter departure time of Train 0: 910\n",
            "Enter arriving time of Train 1: 940\n",
            "Enter departure time of Train 1: 1200\n",
            "Enter arriving time of Train 2: 950\n",
            "Enter departure time of Train 2: 1120\n",
            "Enter arriving time of Train 3: 1100\n",
            "Enter departure time of Train 3: 1130\n",
            "Enter arriving time of Train 4: 1500\n",
            "Enter departure time of Train 4: 1900\n",
            "Enter arriving time of Train 5: 1800\n",
            "Enter departure time of Train 5: 2000\n",
            "3\n"
          ]
        }
      ]
    },
    {
      "cell_type": "markdown",
      "source": [
        "## Q4) Reverse a String"
      ],
      "metadata": {
        "id": "ycxkuZfMEYqW"
      }
    },
    {
      "cell_type": "code",
      "source": [
        "def reverse(string):\n",
        "  reversed_string=\"\"\n",
        "  for i in range(len(string)):\n",
        "    reversed_string+=string[-1-i]\n",
        "  return reversed_string\n",
        "\n",
        "print(reverse(input(\"Enter a string: \")))"
      ],
      "metadata": {
        "colab": {
          "base_uri": "https://localhost:8080/"
        },
        "id": "wJVQel7aFTrq",
        "outputId": "9a1baed2-c135-49be-d57d-6b6577a981e4"
      },
      "execution_count": null,
      "outputs": [
        {
          "output_type": "stream",
          "name": "stdout",
          "text": [
            "Enter a string: Findmeout\n",
            "tuoemdniF\n"
          ]
        }
      ]
    },
    {
      "cell_type": "markdown",
      "source": [
        "## Q5) Palindrome String"
      ],
      "metadata": {
        "id": "z7bM4AwgFg94"
      }
    },
    {
      "cell_type": "code",
      "source": [
        "def palindrome(string):\n",
        "  for i in range(int(len(string)/2)):\n",
        "    if not string[i] == string[-1-i]:\n",
        "      return 0\n",
        "  return 1\n",
        "\n",
        "print(palindrome(input(\"Enter a string: \")))"
      ],
      "metadata": {
        "colab": {
          "base_uri": "https://localhost:8080/"
        },
        "id": "KxioQtUJFSll",
        "outputId": "10708446-1f45-40f6-b83f-d7b7949fcb0b"
      },
      "execution_count": null,
      "outputs": [
        {
          "output_type": "stream",
          "name": "stdout",
          "text": [
            "Enter a string: abba\n",
            "1\n"
          ]
        }
      ]
    }
  ]
}